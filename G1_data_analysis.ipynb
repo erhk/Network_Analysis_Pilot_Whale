{
 "cells": [
  {
   "cell_type": "code",
   "execution_count": 1,
   "id": "27f1c41a",
   "metadata": {},
   "outputs": [],
   "source": [
    "import pandas as pd\n",
    "import numpy as np\n",
    "from sklearn.preprocessing import MinMaxScaler\n",
    "import pyclustering\n",
    "import matplotlib.pyplot as plt\n",
    "\n",
    "data = pd.read_csv(\"PrepData.csv\")\n",
    "\n",
    "g1_data = data[data[\"Group\"] == \"G1\"].copy()\n",
    "g1_data[\"CallType\"] = g1_data[\"CallType\"].replace({np.nan: \"InitiationCall\"}).fillna(\"InitiationCall\")\n",
    "bout_data = g1_data[g1_data[\"bout\"] == 1].copy()"
   ]
  }
 ],
 "metadata": {
  "kernelspec": {
   "display_name": "venv",
   "language": "python",
   "name": "python3"
  },
  "language_info": {
   "codemirror_mode": {
    "name": "ipython",
    "version": 3
   },
   "file_extension": ".py",
   "mimetype": "text/x-python",
   "name": "python",
   "nbconvert_exporter": "python",
   "pygments_lexer": "ipython3",
   "version": "3.11.9"
  }
 },
 "nbformat": 4,
 "nbformat_minor": 5
}
