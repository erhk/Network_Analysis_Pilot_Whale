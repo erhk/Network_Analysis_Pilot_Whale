{
 "cells": [
  {
   "cell_type": "markdown",
   "id": "08d886d9",
   "metadata": {},
   "source": [
    "### Current template for making my own Kuramoto model with my data\n"
   ]
  },
  {
   "cell_type": "markdown",
   "id": "a7cef6da",
   "metadata": {},
   "source": [
    "$$\n",
    "\\frac{d\\theta_i}{dt} = \\omega_i + K \\sum_{j=1}^{N} A_{ij} \\sin(\\theta_j - \\theta_i)\n",
    "$$\n"
   ]
  },
  {
   "cell_type": "markdown",
   "id": "8429ab69",
   "metadata": {},
   "source": [
    "| Term                        | Meaning                                       | Whales                                                                          |\n",
    "| --------------------------- | --------------------------------------------- | ------------------------------------------------------------------------------- |\n",
    "| $\\theta_i(t)$               | Phase of whale $i$ at time $t$                | Represents whale $i$'s vocal activity rhythm                              |\n",
    "| $\\omega_i$                  | Natural frequency of whale $i$                | Derived from how frequently a whale calls (e.g., 1 / inter-call interval)   |\n",
    "| $K$                         | Global coupling constant (same for all pairs) | Controls how strongly whales respond to social influence                   |\n",
    "| $A_{ij}$                    | Weight of influence from whale $j$ to $i$     | How often whale $i$ responds to whale $j$ (e.g., from your response matrix) |\n",
    "| $\\sin(\\theta_j - \\theta_i)$ | Phase difference, drives synchronization      | If whales are out of sync, this term adjusts $\\theta_i$ toward $\\theta_j$   |\n"
   ]
  },
  {
   "cell_type": "code",
   "execution_count": null,
   "id": "1289b0a0",
   "metadata": {},
   "outputs": [],
   "source": [
    "import pandas as pd\n",
    "import numpy as np\n",
    "import matplotlib.pyplot as plt\n",
    "%matplotlib inline\n",
    "\n"
   ]
  },
  {
   "cell_type": "code",
   "execution_count": null,
   "id": "90c8080d",
   "metadata": {},
   "outputs": [],
   "source": [
    "\n",
    "# Template toally stolen from GPT\n",
    "\n",
    "# Parameters\n",
    "N = 5                                # Number of oscillators\n",
    "K = 0.5                              # Coupling strength\n",
    "T = 20                               # Total time\n",
    "dt = 0.01                            # Time step\n",
    "steps = int(T / dt)\n",
    "\n",
    "# Initial conditions\n",
    "theta = np.random.uniform(0, 2*np.pi, N)    # Initial phases\n",
    "omega = np.random.normal(1.0, 0.1, N)       # Natural frequencies\n",
    "\n",
    "# Store phase history\n",
    "history = np.zeros((steps, N))\n",
    "\n",
    "# Kuramoto model simulation\n",
    "for t in range(steps):\n",
    "    history[t] = theta\n",
    "    dtheta = omega + (K / N) * np.sum(np.sin(theta - theta[:, None]), axis=1)\n",
    "    theta += dtheta * dt\n",
    "\n",
    "# Plot phases\n",
    "for i in range(N):\n",
    "    plt.plot(np.arange(steps) * dt, history[:, i])\n",
    "plt.xlabel(\"Time\")\n",
    "plt.ylabel(\"Phase\")\n",
    "plt.title(\"Kuramoto Oscillator Phases\")\n",
    "plt.show()\n"
   ]
  }
 ],
 "metadata": {
  "kernelspec": {
   "display_name": "venv",
   "language": "python",
   "name": "python3"
  },
  "language_info": {
   "codemirror_mode": {
    "name": "ipython",
    "version": 3
   },
   "file_extension": ".py",
   "mimetype": "text/x-python",
   "name": "python",
   "nbconvert_exporter": "python",
   "pygments_lexer": "ipython3",
   "version": "3.11.9"
  }
 },
 "nbformat": 4,
 "nbformat_minor": 5
}
