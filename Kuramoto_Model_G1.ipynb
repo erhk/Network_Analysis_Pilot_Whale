{
 "cells": [
  {
   "cell_type": "markdown",
   "id": "cc326a5f",
   "metadata": {},
   "source": [
    "# 🐋 Kuramoto Model Simulation for Whale Vocal Synchrony (Group G1)"
   ]
  },
  {
   "cell_type": "code",
   "execution_count": 2,
   "id": "555fb2ca",
   "metadata": {},
   "outputs": [],
   "source": [
    "import pandas as pd\n",
    "import numpy as np\n",
    "import matplotlib.pyplot as plt\n",
    "import json\n",
    "%matplotlib inline"
   ]
  },
  {
   "cell_type": "code",
   "execution_count": 3,
   "id": "dcfa97ed",
   "metadata": {},
   "outputs": [],
   "source": [
    "df = pd.read_csv(\"PrepData.csv\")\n",
    "df[\"CallType\"] = df[\"CallType\"].fillna(\"InitiationCall\")\n",
    "df_g1 = df[df[\"Group\"] == \"G1\"].copy()\n",
    "df_g1 = df_g1.dropna(subset=[\"WhaleID\", \"StartTime\"])"
   ]
  },
  {
   "cell_type": "code",
   "execution_count": 4,
   "id": "24ae237d",
   "metadata": {},
   "outputs": [],
   "source": [
    "whales = df_g1[\"WhaleID\"].unique()\n",
    "n_whales = len(whales)\n",
    "whale_to_idx = {whale: i for i, whale in enumerate(whales)}"
   ]
  },
  {
   "cell_type": "code",
   "execution_count": 5,
   "id": "2ca7162a",
   "metadata": {},
   "outputs": [],
   "source": [
    "call_intervals = []\n",
    "for whale, group in df_g1.groupby(\"WhaleID\"):\n",
    "    times = group.sort_values(\"StartTime\")[\"StartTime\"].values\n",
    "    if len(times) > 1:\n",
    "        intervals = np.diff(times)\n",
    "        call_intervals.append((whale, 1 / np.mean(intervals)))\n",
    "    else:\n",
    "        call_intervals.append((whale, 1.0))\n",
    "omega = np.array([dict(call_intervals).get(whale, 1.0) for whale in whales])"
   ]
  },
  {
   "cell_type": "code",
   "execution_count": 6,
   "id": "cfb28568",
   "metadata": {},
   "outputs": [],
   "source": [
    "A = np.zeros((n_whales, n_whales))\n",
    "for bout_id, bout_df in df_g1.groupby(\"bout\"):\n",
    "    bout_sorted = bout_df.sort_values(\"StartTime\")\n",
    "    initiator_row = bout_sorted[bout_sorted[\"CallType\"] == \"InitiationCall\"]\n",
    "    responders = bout_sorted[bout_sorted[\"CallType\"] == \"ResponseCall\"]\n",
    "    if not initiator_row.empty:\n",
    "        initiator = initiator_row.iloc[0][\"WhaleID\"]\n",
    "        for _, responder_row in responders.iterrows():\n",
    "            responder = responder_row[\"WhaleID\"]\n",
    "            if initiator != responder:\n",
    "                i = whale_to_idx[responder]\n",
    "                j = whale_to_idx[initiator]\n",
    "                A[i, j] += 1\n",
    "A /= A.max()"
   ]
  },
  {
   "cell_type": "code",
   "execution_count": 7,
   "id": "b51bdffa",
   "metadata": {},
   "outputs": [],
   "source": [
    "T = 100\n",
    "dt = 0.1\n",
    "steps = int(T / dt)\n",
    "K = 2.0\n",
    "theta = np.zeros((steps, n_whales))\n",
    "theta[0] = np.random.uniform(0, 2 * np.pi, n_whales)\n",
    "for t in range(1, steps):\n",
    "    dtheta = omega + (K / n_whales) * np.sum(A * np.sin(theta[t-1] - theta[t-1][:, None]), axis=1)\n",
    "    theta[t] = theta[t-1] + dt * dtheta"
   ]
  },
  {
   "cell_type": "code",
   "execution_count": 8,
   "id": "66ad1fa4",
   "metadata": {},
   "outputs": [],
   "source": [
    "r = np.abs(np.mean(np.exp(1j * theta), axis=1))\n",
    "time = np.linspace(0, T, steps)"
   ]
  },
  {
   "cell_type": "code",
   "execution_count": 9,
   "id": "29a4e361",
   "metadata": {},
   "outputs": [],
   "source": [
    "kuramoto_data = {\n",
    "    \"whales\": whales.tolist(),\n",
    "    \"omega\": omega.tolist(),\n",
    "    \"A\": A.tolist(),\n",
    "    \"theta\": theta.tolist(),\n",
    "    \"r\": r.tolist(),\n",
    "    \"time\": time.tolist()\n",
    "}\n",
    "\n",
    "with open(\"kuramoto_simulation_G1.json\", \"w\") as f:\n",
    "    json.dump(kuramoto_data, f)"
   ]
  }
 ],
 "metadata": {
  "kernelspec": {
   "display_name": "venv",
   "language": "python",
   "name": "python3"
  },
  "language_info": {
   "codemirror_mode": {
    "name": "ipython",
    "version": 3
   },
   "file_extension": ".py",
   "mimetype": "text/x-python",
   "name": "python",
   "nbconvert_exporter": "python",
   "pygments_lexer": "ipython3",
   "version": "3.11.9"
  }
 },
 "nbformat": 4,
 "nbformat_minor": 5
}
