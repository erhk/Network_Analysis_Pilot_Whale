{
 "cells": [
  {
   "cell_type": "markdown",
   "id": "138da30d",
   "metadata": {},
   "source": [
    "# 🐋 Whale Vocal Interaction Analysis (Fully Commented)\n",
    "This notebook analyzes whale vocal interactions using network science and dyadic statistics. Each step is heavily commented to explain exactly what the code is doing."
   ]
  },
  {
   "cell_type": "markdown",
   "id": "d57e6171",
   "metadata": {},
   "source": [
    "## 📦 Step 1: Import Required Libraries"
   ]
  },
  {
   "cell_type": "code",
   "execution_count": null,
   "id": "1eeaf8aa",
   "metadata": {},
   "outputs": [],
   "source": [
    "# pandas for data handling\n",
    "# networkx for building and analyzing networks\n",
    "# matplotlib and seaborn for visualizations\n",
    "import pandas as pd\n",
    "import networkx as nx\n",
    "import matplotlib.pyplot as plt\n",
    "import seaborn as sns\n",
    "from collections import Counter\n",
    "%matplotlib inline"
   ]
  },
  {
   "cell_type": "markdown",
   "id": "5eb72918",
   "metadata": {},
   "source": [
    "## 📂 Step 2: Load the Dataset"
   ]
  },
  {
   "cell_type": "code",
   "execution_count": null,
   "id": "982cd702",
   "metadata": {},
   "outputs": [],
   "source": [
    "# Load the CSV file containing whale vocalization data\n",
    "# Replace missing call types (NaN) with 'InitiationCall' since that's how initiation is recorded\n",
    "df = pd.read_csv(\"PrepData.csv\")\n",
    "df[\"CallType\"] = df[\"CallType\"].fillna(\"InitiationCall\")"
   ]
  },
  {
   "cell_type": "markdown",
   "id": "fa73ef93",
   "metadata": {},
   "source": [
    "## 🔄 Step 3: Build Interaction Networks"
   ]
  },
  {
   "cell_type": "code",
   "execution_count": null,
   "id": "dd2807c6",
   "metadata": {},
   "outputs": [],
   "source": [
    "# Initialize dictionaries to store the graph and centrality results per group\n",
    "group_graphs = {}\n",
    "group_central_whales = {}\n",
    "\n",
    "# Loop through each whale group (G1, G2, G3)\n",
    "for group_id, df_group in df.groupby(\"Group\"):\n",
    "    # Remove rows missing WhaleID or CallType\n",
    "    df_group_clean = df_group.dropna(subset=[\"WhaleID\", \"CallType\"])\n",
    "\n",
    "    edge_counts = Counter()\n",
    "\n",
    "    # Group by 'bout' to identify interaction episodes\n",
    "    for bout_id, group in df_group_clean.groupby(\"bout\"):\n",
    "        group_sorted = group.sort_values(\"StartTime\")\n",
    "\n",
    "        # Identify the initiator of the bout\n",
    "        initiator_row = group_sorted[group_sorted[\"CallType\"] == \"InitiationCall\"]\n",
    "        responders = group_sorted[group_sorted[\"CallType\"] == \"ResponseCall\"]\n",
    "\n",
    "        # Add edges from the initiator to each responder in the same bout\n",
    "        if not initiator_row.empty:\n",
    "            initiator = initiator_row.iloc[0][\"WhaleID\"]\n",
    "            for _, responder_row in responders.iterrows():\n",
    "                responder = responder_row[\"WhaleID\"]\n",
    "                if pd.notna(responder) and initiator != responder:\n",
    "                    edge_counts[(initiator, responder)] += 1\n",
    "\n",
    "    # Build a directed graph and add weighted edges\n",
    "    G = nx.DiGraph()\n",
    "    for (u, v), w in edge_counts.items():\n",
    "        G.add_edge(u, v, weight=w)\n",
    "\n",
    "    group_graphs[group_id] = G\n",
    "\n",
    "    # Compute node strengths (total in + out weights) for centrality\n",
    "    node_strength = {}\n",
    "    for node in G.nodes():\n",
    "        in_strength = sum(G[u][node]['weight'] for u in G.predecessors(node))\n",
    "        out_strength = sum(G[node][v]['weight'] for v in G.successors(node))\n",
    "        node_strength[node] = in_strength + out_strength\n",
    "\n",
    "    # Identify the most central whale (highest total strength)\n",
    "    central_whale = max(node_strength, key=node_strength.get) if node_strength else None\n",
    "    group_central_whales[group_id] = (node_strength, central_whale)"
   ]
  },
  {
   "cell_type": "markdown",
   "id": "ec4c0979",
   "metadata": {},
   "source": [
    "## 🎯 Step 4: Visualize Interaction Networks"
   ]
  },
  {
   "cell_type": "code",
   "execution_count": null,
   "id": "29a57c31",
   "metadata": {},
   "outputs": [],
   "source": [
    "# Draw each group's network\n",
    "# Node size reflects total strength, orange node is the most central whale\n",
    "fig, axes = plt.subplots(1, 3, figsize=(21, 6))\n",
    "\n",
    "for ax, (group_id, G) in zip(axes, group_graphs.items()):\n",
    "    strength_dict, central_whale = group_central_whales[group_id]\n",
    "    # Use spring layout and space nodes out more for clarity (k controls spacing)\n",
    "    k_value = 1.2 if group_id == \"G1\" else 2.5\n",
    "    pos = nx.spring_layout(G, seed=42, k=k_value)\n",
    "\n",
    "    node_sizes = [strength_dict.get(node, 1) * 80 for node in G.nodes()]\n",
    "    node_colors = ['orange' if node == central_whale else 'lightblue' for node in G.nodes()]\n",
    "    weights = [G[u][v]['weight'] * 0.5 for u, v in G.edges()]\n",
    "\n",
    "    nx.draw(G, pos, with_labels=True, node_color=node_colors, node_size=node_sizes,\n",
    "            edge_color='gray', width=weights, arrowsize=15, ax=ax)\n",
    "    edge_labels = nx.get_edge_attributes(G, 'weight')\n",
    "    nx.draw_networkx_edge_labels(G, pos, edge_labels=edge_labels, ax=ax, font_size=9)\n",
    "    ax.set_title(f\"Group {group_id} - Central Whale: {central_whale}\")\n",
    "\n",
    "plt.tight_layout()\n",
    "plt.show()"
   ]
  },
  {
   "cell_type": "markdown",
   "id": "f8dd7d67",
   "metadata": {},
   "source": [
    "## 🤝 Step 5: Extract Dyadic Interaction Statistics\n",
    "We identify all initiator → responder pairs and count how many times each interaction occurs across bouts."
   ]
  },
  {
   "cell_type": "code",
   "execution_count": null,
   "id": "a87de8a7",
   "metadata": {},
   "outputs": [],
   "source": [
    "# Store each interaction as a row in a list\n",
    "dyadic_stats = []\n",
    "\n",
    "# Process by group (G1, G2, G3)\n",
    "for group_id, df_group in df.groupby(\"Group\"):\n",
    "    df_group_clean = df_group.dropna(subset=[\"WhaleID\", \"CallType\"])\n",
    "\n",
    "    for bout_id, group in df_group_clean.groupby(\"bout\"):\n",
    "        group_sorted = group.sort_values(\"StartTime\")\n",
    "        initiator_row = group_sorted[group_sorted[\"CallType\"] == \"InitiationCall\"]\n",
    "        responders = group_sorted[group_sorted[\"CallType\"] == \"ResponseCall\"]\n",
    "\n",
    "        if not initiator_row.empty:\n",
    "            initiator = initiator_row.iloc[0][\"WhaleID\"]\n",
    "            for _, responder_row in responders.iterrows():\n",
    "                responder = responder_row[\"WhaleID\"]\n",
    "                if pd.notna(responder) and initiator != responder:\n",
    "                    dyadic_stats.append({\n",
    "                        \"Group\": group_id,\n",
    "                        \"Initiator\": initiator,\n",
    "                        \"Responder\": responder\n",
    "                    })\n",
    "\n",
    "# Convert to a DataFrame and count unique dyads\n",
    "dyad_df = pd.DataFrame(dyadic_stats)\n",
    "dyad_summary = dyad_df.groupby([\"Group\", \"Initiator\", \"Responder\"]).size().reset_index(name=\"CallCount\")\n",
    "dyad_summary.head()"
   ]
  },
  {
   "cell_type": "markdown",
   "id": "a3a8402c",
   "metadata": {},
   "source": [
    "## 🌡️ Step 6: Visualize Dyadic Networks and Heatmaps\n",
    "We now visualize pairwise interaction strengths with:\n",
    "- Directed network graphs (Initiator → Responder)\n",
    "- Heatmaps showing call frequencies"
   ]
  },
  {
   "cell_type": "code",
   "execution_count": null,
   "id": "c7cff2ba",
   "metadata": {},
   "outputs": [],
   "source": [
    "# Create network and heatmap for each group based on dyadic interactions\n",
    "dyad_graphs = {}\n",
    "\n",
    "# Build directed graphs from dyad counts\n",
    "for group_id, group_data in dyad_summary.groupby(\"Group\"):\n",
    "    G = nx.DiGraph()\n",
    "    for _, row in group_data.iterrows():\n",
    "        G.add_edge(row[\"Initiator\"], row[\"Responder\"], weight=row[\"CallCount\"])\n",
    "    dyad_graphs[group_id] = G\n",
    "\n",
    "# Visualize dyadic interaction networks\n",
    "fig, axes = plt.subplots(1, 3, figsize=(21, 6))\n",
    "\n",
    "for ax, (group_id, G) in zip(axes, dyad_graphs.items()):\n",
    "    pos = nx.spring_layout(G, seed=42, k=1.8)\n",
    "    weights = [G[u][v]['weight'] * 0.5 for u, v in G.edges()]\n",
    "    nx.draw(G, pos, with_labels=True, node_color='lightblue', node_size=800,\n",
    "            edge_color='gray', width=weights, arrowsize=15, ax=ax)\n",
    "    edge_labels = nx.get_edge_attributes(G, 'weight')\n",
    "    nx.draw_networkx_edge_labels(G, pos, edge_labels=edge_labels, ax=ax, font_size=9)\n",
    "    ax.set_title(f\"Dyadic Interaction Network - Group {group_id}\")\n",
    "\n",
    "plt.tight_layout()\n",
    "plt.show()\n",
    "\n",
    "# Generate heatmaps\n",
    "for group_id, group_data in dyad_summary.groupby(\"Group\"):\n",
    "    pivot = group_data.pivot(index=\"Initiator\", columns=\"Responder\", values=\"CallCount\").fillna(0)\n",
    "    plt.figure(figsize=(10, 6))\n",
    "    sns.heatmap(pivot, annot=True, fmt=\".0f\", cmap=\"Blues\")\n",
    "    plt.title(f\"Dyadic Interaction Heatmap - Group {group_id}\")\n",
    "    plt.xlabel(\"Responder\")\n",
    "    plt.ylabel(\"Initiator\")\n",
    "    plt.tight_layout()\n",
    "    plt.show()"
   ]
  }
 ],
 "metadata": {},
 "nbformat": 4,
 "nbformat_minor": 5
}
